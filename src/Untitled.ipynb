{
 "cells": [
  {
   "cell_type": "raw",
   "id": "b220d3cb8085cb9e",
   "metadata": {},
   "source": [
    "print(3)"
   ]
  },
  {
   "cell_type": "code",
   "execution_count": 2,
   "id": "bcaeeac0-353f-4d86-89ba-6270e464673f",
   "metadata": {},
   "outputs": [
    {
     "name": "stdout",
     "output_type": "stream",
     "text": [
      "3\n"
     ]
    }
   ],
   "source": [
    "print(3)"
   ]
  },
  {
   "cell_type": "code",
   "execution_count": 3,
   "id": "6cc354e6-6499-4fa0-ab81-53e7e471fdf7",
   "metadata": {},
   "outputs": [
    {
     "name": "stdout",
     "output_type": "stream",
     "text": [
      "3\n"
     ]
    }
   ],
   "source": [
    "print(3)"
   ]
  },
  {
   "cell_type": "code",
   "execution_count": null,
   "id": "42d24833-7e72-46f5-8dc0-11280b82b904",
   "metadata": {},
   "outputs": [],
   "source": []
  }
 ],
 "metadata": {
  "kernelspec": {
   "display_name": "",
   "name": ""
  },
  "language_info": {
   "name": ""
  }
 },
 "nbformat": 4,
 "nbformat_minor": 5
}
